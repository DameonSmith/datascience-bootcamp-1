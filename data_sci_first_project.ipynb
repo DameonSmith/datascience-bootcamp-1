{
  "nbformat": 4,
  "nbformat_minor": 0,
  "metadata": {
    "colab": {
      "name": "data-sci-first-project.ipynb",
      "provenance": [],
      "authorship_tag": "ABX9TyNM9Gq684CT/97ncrAUXotE",
      "include_colab_link": true
    },
    "kernelspec": {
      "name": "python3",
      "display_name": "Python 3"
    }
  },
  "cells": [
    {
      "cell_type": "markdown",
      "metadata": {
        "id": "view-in-github",
        "colab_type": "text"
      },
      "source": [
        "<a href=\"https://colab.research.google.com/github/DameonSmith/datascience-bootcamp-1/blob/master/data_sci_first_project.ipynb\" target=\"_parent\"><img src=\"https://colab.research.google.com/assets/colab-badge.svg\" alt=\"Open In Colab\"/></a>"
      ]
    },
    {
      "cell_type": "code",
      "metadata": {
        "id": "daemdBR3vFZP",
        "colab_type": "code",
        "colab": {}
      },
      "source": [
        "Test stuff."
      ],
      "execution_count": null,
      "outputs": []
    }
  ]
}